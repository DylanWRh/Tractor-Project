{
 "cells": [
  {
   "cell_type": "code",
   "execution_count": 16,
   "metadata": {},
   "outputs": [],
   "source": [
    "from collections import Counter\n",
    "def read_log(filepath):\n",
    "    with open(filepath, 'r') as f:\n",
    "        res = f.readlines()\n",
    "        res = [s.strip() for s in res if s.startswith('Score')]\n",
    "        res = [Counter(eval(''.join(s.split()[1:]))) for s in res]\n",
    "        res = sum(res, Counter())\n",
    "    return res"
   ]
  },
  {
   "cell_type": "code",
   "execution_count": 17,
   "metadata": {},
   "outputs": [
    {
     "name": "stdout",
     "output_type": "stream",
     "text": [
      "Counter({'0': 19, '2': 19, '1': 18, '3': 18})\n",
      "Counter({'0': 19, '2': 19, '1': 15, '3': 15})\n"
     ]
    }
   ],
   "source": [
    "# clp1 vs pnt1\n",
    "print(read_log('clp1-pnt1.out'))    # 0,2: clp1\n",
    "print(read_log('pnt1-clp1.out'))    # 0,2: pnt1"
   ]
  },
  {
   "cell_type": "code",
   "execution_count": 18,
   "metadata": {},
   "outputs": [
    {
     "name": "stdout",
     "output_type": "stream",
     "text": [
      "Counter({'0': 22, '2': 22, '1': 14, '3': 14})\n",
      "Counter({'0': 19, '2': 19, '1': 16, '3': 16})\n"
     ]
    }
   ],
   "source": [
    "# clp1 vs pnt10\n",
    "print(read_log('clp1-pnt10.out'))   # 0,2 clp1\n",
    "print(read_log('pnt10-clp1.out'))   # 0,2 pnt10"
   ]
  },
  {
   "cell_type": "code",
   "execution_count": 19,
   "metadata": {},
   "outputs": [
    {
     "name": "stdout",
     "output_type": "stream",
     "text": [
      "Counter({'1': 24, '3': 24, '0': 14, '2': 14})\n",
      "Counter({'0': 17, '2': 17, '1': 16, '3': 16})\n"
     ]
    }
   ],
   "source": [
    "# clp10 vs pnt10\n",
    "print(read_log('clp10-pnt10.out'))  # 0,2 clp10\n",
    "print(read_log('pnt10-clp10.out'))  # 0,2 pnt10"
   ]
  },
  {
   "cell_type": "code",
   "execution_count": 20,
   "metadata": {},
   "outputs": [
    {
     "name": "stdout",
     "output_type": "stream",
     "text": [
      "Counter({'0': 18, '2': 18, '1': 14, '3': 14})\n",
      "Counter({'0': 21, '2': 21, '1': 17, '3': 17})\n"
     ]
    }
   ],
   "source": [
    "# clp10 vs pnt1\n",
    "print(read_log('clp10-pnt1.out'))   # 0,2 clp10\n",
    "print(read_log('pnt1-clp10.out'))   # 0,2 pnt1"
   ]
  },
  {
   "cell_type": "code",
   "execution_count": 21,
   "metadata": {},
   "outputs": [
    {
     "name": "stdout",
     "output_type": "stream",
     "text": [
      "Counter({'0': 18, '2': 18, '1': 17, '3': 17})\n",
      "Counter({'0': 20, '2': 20, '1': 12, '3': 12})\n"
     ]
    }
   ],
   "source": [
    "# clp1 vs clp10\n",
    "print(read_log('clp1-clp10.out'))   # 0,2 clp1\n",
    "print(read_log('clp10-clp1.out'))   # 0,2 clp10"
   ]
  },
  {
   "cell_type": "code",
   "execution_count": 22,
   "metadata": {},
   "outputs": [
    {
     "name": "stdout",
     "output_type": "stream",
     "text": [
      "Counter({'1': 20, '3': 20, '0': 15, '2': 15})\n",
      "Counter({'1': 18, '3': 18, '0': 17, '2': 17})\n"
     ]
    }
   ],
   "source": [
    "# pnt1 vs pnt10\n",
    "print(read_log('pnt1-pnt10.out'))   # 0,2 pnt1\n",
    "print(read_log('pnt10-pnt1.out'))   # 0,2 pnt10"
   ]
  },
  {
   "cell_type": "code",
   "execution_count": null,
   "metadata": {},
   "outputs": [],
   "source": []
  }
 ],
 "metadata": {
  "kernelspec": {
   "display_name": "graphcl",
   "language": "python",
   "name": "python3"
  },
  "language_info": {
   "codemirror_mode": {
    "name": "ipython",
    "version": 3
   },
   "file_extension": ".py",
   "mimetype": "text/x-python",
   "name": "python",
   "nbconvert_exporter": "python",
   "pygments_lexer": "ipython3",
   "version": "3.8.19"
  }
 },
 "nbformat": 4,
 "nbformat_minor": 2
}
