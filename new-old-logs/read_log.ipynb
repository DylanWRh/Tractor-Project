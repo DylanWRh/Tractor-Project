{
 "cells": [
  {
   "cell_type": "code",
   "execution_count": 2,
   "metadata": {},
   "outputs": [],
   "source": [
    "from collections import Counter\n",
    "def read_log(filepath):\n",
    "    with open(filepath, 'r') as f:\n",
    "        res = f.readlines()\n",
    "        res = [s.strip() for s in res if s.startswith('Score')]\n",
    "        res = [Counter(eval(''.join(s.split()[1:]))) for s in res]\n",
    "        res = sum(res, Counter())\n",
    "    return res"
   ]
  },
  {
   "cell_type": "code",
   "execution_count": 5,
   "metadata": {},
   "outputs": [
    {
     "name": "stdout",
     "output_type": "stream",
     "text": [
      "Counter({'0': 10, '2': 10, '1': 4, '3': 4})\n",
      "Counter({'0': 8, '2': 8, '1': 5, '3': 5})\n"
     ]
    }
   ],
   "source": [
    "print(read_log('new-old-clip.out'))    # 0,2: new\n",
    "print(read_log('old-new-clip.out'))    # 0,2: old"
   ]
  },
  {
   "cell_type": "code",
   "execution_count": 6,
   "metadata": {},
   "outputs": [
    {
     "name": "stdout",
     "output_type": "stream",
     "text": [
      "Counter({'1': 6, '3': 6, '0': 6, '2': 6})\n",
      "Counter({'1': 12, '3': 12, '0': 2, '2': 2})\n"
     ]
    }
   ],
   "source": [
    "print(read_log('new-old-pnt.out'))    # 0,2: new\n",
    "print(read_log('old-new-pnt.out'))    # 0,2: old"
   ]
  },
  {
   "cell_type": "code",
   "execution_count": null,
   "metadata": {},
   "outputs": [],
   "source": []
  }
 ],
 "metadata": {
  "kernelspec": {
   "display_name": "graphcl",
   "language": "python",
   "name": "python3"
  },
  "language_info": {
   "codemirror_mode": {
    "name": "ipython",
    "version": 3
   },
   "file_extension": ".py",
   "mimetype": "text/x-python",
   "name": "python",
   "nbconvert_exporter": "python",
   "pygments_lexer": "ipython3",
   "version": "3.8.19"
  }
 },
 "nbformat": 4,
 "nbformat_minor": 2
}
